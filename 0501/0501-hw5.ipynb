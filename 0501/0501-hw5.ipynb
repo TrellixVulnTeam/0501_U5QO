{
 "cells": [
  {
   "cell_type": "code",
   "execution_count": 14,
   "metadata": {},
   "outputs": [
    {
     "name": "stdout",
     "output_type": "stream",
     "text": [
      "3\n",
      "5\n"
     ]
    }
   ],
   "source": [
    "x=int(input())\n",
    "y=int(input())\n",
    "def add(x,y):\n",
    "    print(x+y)\n",
    "def minus(x,y):\n",
    "    print(x-y)\n",
    "def multiply(x,y):\n",
    "    print(x*y)\n",
    "def divided(x,y):\n",
    "    print(x/y)"
   ]
  },
  {
   "cell_type": "code",
   "execution_count": 15,
   "metadata": {},
   "outputs": [],
   "source": [
    "def run_add(func,x,y):\n",
    "    func(x,y)\n",
    "def run_minus(func,x,y):\n",
    "    func(x,y)\n",
    "def run_multiply(func,x,y):\n",
    "    func(x,y)\n",
    "def run_divided(func,x,y):\n",
    "    func(x,y)"
   ]
  },
  {
   "cell_type": "code",
   "execution_count": 16,
   "metadata": {},
   "outputs": [
    {
     "name": "stdout",
     "output_type": "stream",
     "text": [
      "8\n",
      "-2\n",
      "15\n",
      "0.6\n"
     ]
    }
   ],
   "source": [
    "run_add(add,x,y)\n",
    "run_minus(minus,x,y)\n",
    "run_multiply(multiply,x,y)\n",
    "run_divided(divided,x,y)"
   ]
  },
  {
   "cell_type": "code",
   "execution_count": null,
   "metadata": {},
   "outputs": [],
   "source": []
  }
 ],
 "metadata": {
  "kernelspec": {
   "display_name": "Python 3",
   "language": "python",
   "name": "python3"
  },
  "language_info": {
   "codemirror_mode": {
    "name": "ipython",
    "version": 3
   },
   "file_extension": ".py",
   "mimetype": "text/x-python",
   "name": "python",
   "nbconvert_exporter": "python",
   "pygments_lexer": "ipython3",
   "version": "3.7.3"
  }
 },
 "nbformat": 4,
 "nbformat_minor": 2
}
